{
 "cells": [
  {
   "cell_type": "code",
   "execution_count": 16,
   "id": "165ea0a5",
   "metadata": {},
   "outputs": [],
   "source": [
    "import numpy as np\n",
    "import matplotlib.pyplot as plt"
   ]
  },
  {
   "cell_type": "markdown",
   "id": "2a09d0ec",
   "metadata": {},
   "source": [
    "## Root finding 2: Solve the equation f(x) = x^3 − 0.165x^2 +3.99310−4 using Newton-Raphson method for a given error limit."
   ]
  },
  {
   "cell_type": "code",
   "execution_count": 17,
   "id": "38f85bae",
   "metadata": {},
   "outputs": [],
   "source": [
    "#defining the given function\n",
    "def f(x):\n",
    "    return x**3 - 0.165*x**2 + 3.993e-4\n",
    "\n",
    "#defining derivative of the given function\n",
    "def d_f(x):\n",
    "    return 3*x**2 - 2*0.165*x\n",
    "\n",
    "N=[]   #defining a list for the no. of iteration \n",
    "\n",
    "#defining newton-raphson method\n",
    "\n",
    "def newton_raphson(x,e):\n",
    "    h=f(x)/d_f(x)    \n",
    "    n=0\n",
    "    for i in range(50):\n",
    "        \n",
    "        if abs(h)>e:\n",
    "            h=f(x)/d_f(x)\n",
    "            x=x-h\n",
    "            n=n+1\n",
    "    N.append(n)\n",
    "            \n",
    "    print(x)\n",
    "    print(n)\n",
    "    return(x,N)\n",
    "\n"
   ]
  },
  {
   "cell_type": "code",
   "execution_count": 18,
   "id": "c297533d",
   "metadata": {},
   "outputs": [
    {
     "name": "stdout",
     "output_type": "stream",
     "text": [
      "[1.e-01 1.e-02 1.e-03 1.e-04 1.e-05 1.e-06 1.e-07 1.e-08 1.e-09 1.e-10\n",
      " 1.e-11 1.e-12 1.e-13 1.e-14 1.e-15 1.e-16 1.e-17 1.e-18 1.e-19 1.e-20\n",
      " 1.e-21 1.e-22 1.e-23 1.e-24 1.e-25 1.e-26 1.e-27 1.e-28 1.e-29 1.e-30]\n",
      "0.05\n",
      "0\n",
      "0.062377576543465846\n",
      "2\n",
      "0.062377576543465846\n",
      "2\n",
      "0.062377576543465846\n",
      "2\n",
      "0.06237758151374945\n",
      "3\n",
      "0.06237758151374945\n",
      "3\n",
      "0.06237758151374945\n",
      "3\n",
      "0.06237758151374945\n",
      "3\n",
      "0.06237758151374951\n",
      "4\n",
      "0.06237758151374951\n",
      "4\n",
      "0.06237758151374951\n",
      "4\n",
      "0.06237758151374951\n",
      "4\n",
      "0.06237758151374951\n",
      "4\n",
      "0.06237758151374951\n",
      "4\n",
      "0.06237758151374951\n",
      "4\n",
      "0.06237758151374951\n",
      "4\n",
      "0.06237758151374951\n",
      "5\n",
      "0.06237758151374951\n",
      "5\n",
      "0.06237758151374951\n",
      "5\n",
      "0.06237758151374951\n",
      "5\n",
      "0.06237758151374951\n",
      "5\n",
      "0.06237758151374951\n",
      "5\n",
      "0.06237758151374951\n",
      "5\n",
      "0.06237758151374951\n",
      "5\n",
      "0.06237758151374951\n",
      "5\n",
      "0.06237758151374951\n",
      "5\n",
      "0.06237758151374951\n",
      "5\n",
      "0.06237758151374951\n",
      "5\n",
      "0.06237758151374951\n",
      "5\n",
      "0.06237758151374951\n",
      "5\n"
     ]
    },
    {
     "data": {
      "text/plain": [
       "Text(0.5, 1.0, 'e vs No. of iteration needed for convergence')"
      ]
     },
     "execution_count": 18,
     "metadata": {},
     "output_type": "execute_result"
    },
    {
     "data": {
      "image/png": "[encoded data removed]",
      "text/plain": [
       "<Figure size 432x288 with 1 Axes>"
      ]
     },
     "metadata": {
      "needs_background": "light"
     },
     "output_type": "display_data"
    }
   ],
   "source": [
    "#declaring domain of e\n",
    "e=np.zeros(30)\n",
    "\n",
    "for i in range(30):\n",
    "    e[i]=10**(-(i+1))\n",
    "    \n",
    "print(e)\n",
    "\n",
    "#calculating result for error limit in the domain e, printing the result and no. of iterations to obtain the result\n",
    "for i in range(30):\n",
    "    X=newton_raphson(0.05,e[i])\n",
    "\n",
    "#plotting e vs No. of iteration needed for convergence\n",
    "plt.plot(N,e)\n",
    "plt.yscale('log')\n",
    "plt.xlabel(\"e\")\n",
    "plt.ylabel(\"N\")\n",
    "plt.title(\"e vs No. of iteration needed for convergence\")\n",
    "\n"
   ]
  },
  {
   "cell_type": "markdown",
   "id": "5fa7088b",
   "metadata": {},
   "source": [
    "# Problem: *Newton-Raphson for finding reciprocal of a number: The reciprocal of real number a is defined as a zero of the function: f(x) = 1⁄x − a."
   ]
  },
  {
   "cell_type": "code",
   "execution_count": 19,
   "id": "8e5a2dcf",
   "metadata": {},
   "outputs": [],
   "source": [
    "\n",
    "#defining reciprocal  \n",
    "def r(x,a):\n",
    "    y= 1/x-a\n",
    "    return y\n",
    "\n",
    "def d_r(x):\n",
    "    y=-1/(x**2)\n",
    "    return y\n",
    "\n",
    "\n",
    "def reciprocal(x_0,a):\n",
    "    \n",
    "    n=0\n",
    "    error=[]\n",
    "    condition = True\n",
    "    j=1\n",
    "    \n",
    "    while condition:\n",
    "        \n",
    "        if d_r(x_0!=0):\n",
    "            t=r(x_0,a)/d_r(x_0)\n",
    "            x_1=x_0-t\n",
    "            error.append(x_0)\n",
    "            x_0=x_1\n",
    "            \n",
    "            \n",
    "        n=n+1\n",
    "        condition=n<50\n",
    "    \n",
    "    if(j!=0):\n",
    "        print(\"The reciprocal is \", x_0)\n",
    "    \n",
    "    return(error)\n",
    "\n",
    "    \n",
    "   \n",
    "    \n",
    "        "
   ]
  },
  {
   "cell_type": "code",
   "execution_count": 20,
   "id": "a4794c68",
   "metadata": {},
   "outputs": [
    {
     "name": "stdout",
     "output_type": "stream",
     "text": [
      "The reciprocal is  0.3333333333333333\n"
     ]
    }
   ],
   "source": [
    "U=reciprocal(10**(-1),3)\n",
    "a=len(U)\n",
    "iteration=np.arange(a)"
   ]
  },
  {
   "cell_type": "code",
   "execution_count": 21,
   "id": "0c6cc4e8",
   "metadata": {},
   "outputs": [
    {
     "data": {
      "text/plain": [
       "Text(0, 0.5, 'U')"
      ]
     },
     "execution_count": 21,
     "metadata": {},
     "output_type": "execute_result"
    },
    {
     "data": {
      "image/png": "[encoded data removed]",
      "text/plain": [
       "<Figure size 432x288 with 1 Axes>"
      ]
     },
     "metadata": {
      "needs_background": "light"
     },
     "output_type": "display_data"
    }
   ],
   "source": [
    "plt.plot(iteration,U)\n",
    "plt.xlabel(\"no. of iteration\")\n",
    "plt.ylabel(\"U\")"
   ]
  },
  {
   "cell_type": "code",
   "execution_count": 22,
   "id": "db6acb5f",
   "metadata": {},
   "outputs": [
    {
     "data": {
      "text/plain": [
       "Text(0, 0.5, 'error')"
      ]
     },
     "execution_count": 22,
     "metadata": {},
     "output_type": "execute_result"
    },
    {
     "data": {
      "image/png": "[encoded data removed]",
      "text/plain": [
       "<Figure size 432x288 with 1 Axes>"
      ]
     },
     "metadata": {
      "needs_background": "light"
     },
     "output_type": "display_data"
    }
   ],
   "source": [
    "error=[]\n",
    "for i in U:\n",
    "    x=len(U)\n",
    "    y=U[x-1]-i\n",
    "    error.append(np.abs(y))\n",
    "    \n",
    "plt.plot(iteration,error)\n",
    "plt.xlabel(\"no. of iterations\")\n",
    "plt.ylabel(\"error\")\n",
    "    "
   ]
  },
  {
   "cell_type": "markdown",
   "id": "ebc0129f",
   "metadata": {},
   "source": [
    "# Problem: *Diagonal dominance of matrix"
   ]
  },
  {
   "cell_type": "code",
   "execution_count": 23,
   "id": "3abb03f5",
   "metadata": {},
   "outputs": [],
   "source": [
    "# the function isddm(M,len(M)) checks whether a square matrix M is diagonally dominant i.e., sum of absolute value of  \n",
    "# elements in a row except the diagonal element is smaller or equal to the diagonal element.\n",
    "\n",
    "def isddm(M):\n",
    "    for i in range(len(M)):\n",
    "        sum =0\n",
    "        for j in range(len(M)):\n",
    "            sum = sum + np.abs(M[i][j])  #taking sum of absolute values all elements in a row\n",
    "            \n",
    "        sum = sum - np.abs(M[i][i])      #substracting the absolute value of diagonal element from the sum\n",
    "        \n",
    "        if (abs(M[i][i])<sum):           #comparing the sum with the absolute value of diagonal element\n",
    "            \n",
    "            return False\n",
    "        \n",
    "    return True\n",
    "\n"
   ]
  },
  {
   "cell_type": "code",
   "execution_count": 24,
   "id": "533ad1ed",
   "metadata": {},
   "outputs": [
    {
     "data": {
      "text/plain": [
       "False"
      ]
     },
     "execution_count": 24,
     "metadata": {},
     "output_type": "execute_result"
    }
   ],
   "source": [
    "#test case 1\n",
    "M=[[-6,2,1,2,1],[3,8,-4,1,0],[-1,1,4,10,1],[3,-4,1,9,2],[2,0,1,3,10]]\n",
    "\n",
    "isddm(M)\n"
   ]
  },
  {
   "cell_type": "code",
   "execution_count": 25,
   "id": "9d11704a",
   "metadata": {},
   "outputs": [
    {
     "data": {
      "text/plain": [
       "False"
      ]
     },
     "execution_count": 25,
     "metadata": {},
     "output_type": "execute_result"
    }
   ],
   "source": [
    "#test case 2\n",
    "B=[[18,3,6,-3],\n",
    "[9,13,-5,2],\n",
    "[-3,-2,4,9],\n",
    "[6,0,11,3]]\n",
    "\n",
    "isddm(B)"
   ]
  },
  {
   "cell_type": "code",
   "execution_count": 26,
   "id": "59828b18",
   "metadata": {},
   "outputs": [
    {
     "data": {
      "text/plain": [
       "False"
      ]
     },
     "execution_count": 26,
     "metadata": {},
     "output_type": "execute_result"
    }
   ],
   "source": [
    "#test case 3\n",
    "C=[[-6,2,1,2,1],\n",
    "[3,8,-4,1,0],\n",
    "[-1,1,4,10,1],\n",
    "[3,-4,1,9,2],\n",
    "[2,0,1,3,10]]\n",
    "\n",
    "isddm(C)"
   ]
  },
  {
   "cell_type": "code",
   "execution_count": 27,
   "id": "f0924cc9",
   "metadata": {},
   "outputs": [
    {
     "data": {
      "text/plain": [
       "True"
      ]
     },
     "execution_count": 27,
     "metadata": {},
     "output_type": "execute_result"
    }
   ],
   "source": [
    "#test case 3\n",
    "D=[[3,-2,1],[1,-3,2],[-1,2,4]]\n",
    "\n",
    "isddm(D)\n",
    "        "
   ]
  }
 ],
 "metadata": {
  "kernelspec": {
   "display_name": "Python 3 (ipykernel)",
   "language": "python",
   "name": "python3"
  },
  "language_info": {
   "codemirror_mode": {
    "name": "ipython",
    "version": 3
   },
   "file_extension": ".py",
   "mimetype": "text/x-python",
   "name": "python",
   "nbconvert_exporter": "python",
   "pygments_lexer": "ipython3",
   "version": "3.10.6"
  }
 },
 "nbformat": 4,
 "nbformat_minor": 5
}
