{
 "cells": [
  {
   "cell_type": "code",
   "execution_count": 1,
   "id": "0c621b48",
   "metadata": {},
   "outputs": [],
   "source": [
    "import numpy as np\n",
    "import matplotlib.pyplot as plt"
   ]
  },
  {
   "cell_type": "markdown",
   "id": "b6741c3a",
   "metadata": {},
   "source": [
    "# Gauss-Seidel method:"
   ]
  },
  {
   "cell_type": "code",
   "execution_count": 2,
   "id": "d615bf85",
   "metadata": {},
   "outputs": [],
   "source": [
    "# defining arrays A and b in Ax=b\n",
    "\n",
    "A =np.array([[-6, 2, 1, 2, 1],\n",
    "[3, 8, -4, 1, 0],\n",
    "[-1, 1, 4, 10, 1],\n",
    "[3, -4, 1, 9, 2],\n",
    "[2, 0, 1, 3, 10]])\n",
    "\n",
    "b = [3, 4, -2, 12, 1]"
   ]
  },
  {
   "cell_type": "code",
   "execution_count": 3,
   "id": "32e7037d",
   "metadata": {},
   "outputs": [
    {
     "name": "stdout",
     "output_type": "stream",
     "text": [
      "\n",
      "It is not diagonally dominant.\n"
     ]
    }
   ],
   "source": [
    "#Checking Diagonal Dominance of A\n",
    "\n",
    "def isddm(m):\n",
    "    for i in range(0,len(m)):\n",
    "        sum =0\n",
    "        for j in range(0,len(m)):\n",
    "            sum = sum + np.abs(m[i][j])\n",
    "            \n",
    "        sum = sum - np.abs(m[i][i])\n",
    "        \n",
    "        if (abs(m[i][i])<sum):\n",
    "            print(\"\")\n",
    "            return False\n",
    "        \n",
    "    return True\n",
    "\n",
    "if isddm(A):\n",
    "    print(\"It is diagonally dominant.\")\n",
    "else:\n",
    "    print(\"It is not diagonally dominant.\")"
   ]
  },
  {
   "cell_type": "code",
   "execution_count": 4,
   "id": "069bffd8",
   "metadata": {},
   "outputs": [],
   "source": [
    "#implementing the formula for each row \n",
    "\n",
    "def f1(v,w,x,y,z):\n",
    "    result= 3-2*w-x-2*y-z\n",
    "    return(result/-6)\n",
    "\n",
    "def f2(v,w,x,y,z):\n",
    "    result= 4 - 3*v +4*x -1*y\n",
    "    return(result/8)\n",
    "\n",
    "def f3(v,w,x,y,z):\n",
    "    result= -2 +v -w -10*y -z\n",
    "    return(result/4)\n",
    "\n",
    "def f4(v,w,x,y,z):\n",
    "    result= 12 -3*v +4*w -x -2*z\n",
    "    return(result/9)\n",
    "\n",
    "def f5(v,w,x,y,z):\n",
    "    result= 1-2*v -x -3*y\n",
    "    return(result/10)"
   ]
  },
  {
   "cell_type": "code",
   "execution_count": 13,
   "id": "76534452",
   "metadata": {},
   "outputs": [
    {
     "name": "stdout",
     "output_type": "stream",
     "text": [
      "Iteration = 1\n",
      "(v,w,x,y,z)\n",
      "( -0.5 , 0.6875 , -0.796875 , 1.8940972222222223 , -0.2885416666666667 )\n",
      "\n",
      "\n",
      "Iteration = 2\n",
      "(v,w,x,y,z)\n",
      "( 0.17962962962962967 , -0.20256076388888888 , -5.067560040509259 , 1.810612381044239 , 0.027646363811728313 )\n",
      "\n",
      "\n",
      "Iteration = 3\n",
      "(v,w,x,y,z)\n",
      "( -0.8039684070644718 , -1.9586184152359827 , -4.744780041520652 , 1.2518798749051865 , 0.3597077230934036 )\n",
      "\n",
      "\n",
      "Iteration = 4\n",
      "(v,w,x,y,z)\n",
      "( -1.4664248998481402 , -1.478965667680422 , -3.7164914260782465 , 1.4978320009682413 , 0.3155845222869803 )\n",
      "\n",
      "\n",
      "Iteration = 5\n",
      "(v,w,x,y,z)\n",
      "( -1.0605290395359377 , -1.1477763233341767 , -4.301664312042789 , 1.584553010304437 , 0.26690633602013536 )\n",
      "\n",
      "\n",
      "Iteration = 6\n",
      "(v,w,x,y,z)\n",
      "( -1.0268674336803556 , -1.4638259946793157 , -4.418869469516386 , 1.4567061244222133 , 0.3102485963610458 )\n",
      "\n",
      "\n",
      "Iteration = 7\n",
      "(v,w,x,y,z)\n",
      "( -1.1871434356115909 , -1.446344211956623 , -4.154527266059537 , 1.4788981702606363 , 0.30921196265008105 )\n",
      "\n",
      "\n",
      "Iteration = 8\n",
      "(v,w,x,y,z)\n",
      "( -1.1300345644669048 , -1.3383629426372587 , -4.222466321771523 , 1.5156327021470046 , 0.2935637344264319 )\n",
      "\n",
      "\n",
      "Iteration = 9\n",
      "(v,w,x,y,z)\n",
      "( -1.0957271780542668 , -1.389789556883787 , -4.288957094266739 , 1.4922058813379477 , 0.300379380636143 )\n",
      "\n",
      "\n",
      "Iteration = 10\n",
      "(v,w,x,y,z)\n",
      "( -1.1306241774537125 , -1.407020215755471 , -4.236510538928465 , 1.4888381607772705 , 0.3031244411504078 )\n",
      "\n",
      "\n",
      "Iteration = 11\n",
      "(v,w,x,y,z)\n",
      "( -1.1282917012890763 , -1.3812506515779879 , -4.234636774658551 , 1.4986955988792234 , 0.2995133380599033 )\n",
      "\n",
      "\n",
      "Iteration = 12\n",
      "(v,w,x,y,z)\n",
      "( -1.1167055903326961 , -1.3858907408144172 , -4.254321044092604 , 1.4957609084125798 , 0.3000449499520257 )\n",
      "\n",
      "\n"
     ]
    }
   ],
   "source": [
    "v_0=0\n",
    "w_0=0\n",
    "x_0=0\n",
    "y_0=0\n",
    "z_0=0\n",
    "\n",
    "e=0.001\n",
    "condition= True\n",
    "\n",
    "n=1\n",
    "\n",
    "while condition :\n",
    "    v_1=f1(v_0,w_0,x_0,y_0,z_0)\n",
    "    w_1=f2(v_1,w_0,x_0,y_0,z_0)\n",
    "    x_1=f3(v_1,w_1,x_0,y_0,z_0)\n",
    "    y_1=f4(v_1,w_1,x_1,y_0,z_0)\n",
    "    z_1=f5(v_1,w_1,x_1,y_1,z_0)\n",
    "    \n",
    "    e1=abs(v_1 - v_0)\n",
    "    e2=abs(w_1 - w_0)\n",
    "    e3=abs(x_1 - x_0)\n",
    "    e4=abs(y_1 - y_0)\n",
    "    e5=abs(z_1 - z_0)\n",
    "    \n",
    "    \n",
    "    v_0=v_1\n",
    "    w_0=w_1\n",
    "    x_0=x_1\n",
    "    y_0=y_1\n",
    "    z_0=z_1\n",
    "    n=n+1\n",
    "    print(\"Iteration =\", n-1)\n",
    "    print(\"(v,w,x,y,z)\")\n",
    "    print(\"(\",v_1,\",\", w_1,\",\", x_1,\",\", y_1,\",\", z_1,\")\" )\n",
    "    print(\"\\n\")\n",
    "    condition= e1>e and e2>e and e3>e and e4>e and e5>e  \n",
    "    \n"
   ]
  },
  {
   "cell_type": "markdown",
   "id": "a75453f1",
   "metadata": {},
   "source": [
    "# *Linear interpolation 1: Given the three data points (x, y) = (1.0, 8.0), (2.1,20.6) and (5.0, 13.7), write a program to return the value of y for any arbitrary xin the range [1.0, 5.0] using two-point linear interpolation."
   ]
  },
  {
   "cell_type": "code",
   "execution_count": 14,
   "id": "0e242a71",
   "metadata": {},
   "outputs": [
    {
     "data": {
      "text/plain": [
       "[<matplotlib.lines.Line2D at 0x1145cc43220>]"
      ]
     },
     "execution_count": 14,
     "metadata": {},
     "output_type": "execute_result"
    },
    {
     "data": {
      "image/png": "[encoded data removed]",
      "text/plain": [
       "<Figure size 432x288 with 1 Axes>"
      ]
     },
     "metadata": {
      "needs_background": "light"
     },
     "output_type": "display_data"
    }
   ],
   "source": [
    "x=[1,2.1,5.0]\n",
    "y=[8.0,20.6,13.7]\n",
    "plt.plot(x,y,marker=\"o\")"
   ]
  },
  {
   "cell_type": "code",
   "execution_count": 10,
   "id": "9603e7c5",
   "metadata": {},
   "outputs": [],
   "source": [
    "\n",
    "# defining result by the formula y_2=y_1+slope*(x-x_1)\n",
    "def result(x,y,z):\n",
    "    return(y + x*z)\n",
    "\n",
    "#defining slope (y_2-y_1)/(x_2-x_1)\n",
    "def slope(x_1,x_2,y_1,y_2):\n",
    "    return((y_2-y_1)/(x_2-x_1))\n",
    "\n",
    "\n",
    "def lin2(X):\n",
    "    if(X<=2.1):\n",
    "        z=slope(1,2.1,8.0,20.6)\n",
    "        Y=result(X-1,8,z)\n",
    "        \n",
    "    if(X>2.1):\n",
    "        z=slope(2.1,5.0,20.6,13.7)\n",
    "        Y=result(X-2.1,20.6,z)\n",
    "        \n",
    "    return Y\n"
   ]
  },
  {
   "cell_type": "markdown",
   "id": "a34bfe24",
   "metadata": {},
   "source": [
    "# *Linear interpolation 2: Write a code for two-point segment linearinterpolation for the dataset given in file points.txt (attached)"
   ]
  },
  {
   "cell_type": "code",
   "execution_count": 11,
   "id": "8783f968",
   "metadata": {},
   "outputs": [
    {
     "name": "stdout",
     "output_type": "stream",
     "text": [
      "41\n",
      "[1.0, 1.1, 1.2, 1.3, 1.4, 1.5, 1.6, 1.7, 1.8, 1.9, 2.0, 2.1, 2.2, 2.3, 2.4, 2.5, 2.6, 2.7, 2.8, 2.9, 3.0, 3.1, 3.2, 3.3, 3.4, 3.5, 3.6, 3.7, 3.8, 3.9, 4.0, 4.1, 4.2, 4.3, 4.4, 4.5, 4.6, 4.7, 4.8, 4.9, 5.0]\n",
      "[1.45, 1.5, 1.55, 1.6, 1.65, 1.71, 1.76, 1.82, 1.88, 1.94, 2.0, 2.06, 2.12, 2.18, 2.24, 2.31, 2.37, 2.44, 2.51, 2.58, 2.65, 2.72, 2.79, 2.86, 2.93, 3.01, 3.08, 3.16, 3.24, 3.32, 3.4, 3.48, 3.56, 3.64, 3.72, 3.81, 3.89, 3.98, 4.07, 4.16, 4.25]\n"
     ]
    },
    {
     "data": {
      "text/plain": [
       "[<matplotlib.lines.Line2D at 0x219a3edd8b0>]"
      ]
     },
     "execution_count": 11,
     "metadata": {},
     "output_type": "execute_result"
    },
    {
     "data": {
      "image/png": "[encoded data removed]",
      "text/plain": [
       "<Figure size 432x288 with 1 Axes>"
      ]
     },
     "metadata": {
      "needs_background": "light"
     },
     "output_type": "display_data"
    }
   ],
   "source": [
    "##calling points.txt file and reading it as an array\n",
    "\n",
    "points=np.loadtxt(r\"E:\\sem 5\\computational physics lab\\week4\\points.txt\") \n",
    "X=[]\n",
    "Y=[]\n",
    "print(len(points))\n",
    "for i in range(len(points)):\n",
    "    Z=points[i]\n",
    "    x=Z[0]\n",
    "    y=Z[1]\n",
    "    X.append(x)   ##separating x coordinates from the array and saving in list X\n",
    "    Y.append(y)   ##separating y coordinates from the array and saving in list Y\n",
    "print(X) \n",
    "print(Y)\n",
    "plt.plot(X,Y)"
   ]
  },
  {
   "cell_type": "code",
   "execution_count": 12,
   "id": "11dcd0cb",
   "metadata": {},
   "outputs": [],
   "source": [
    "\n",
    "# defining the linear interpolation between two successive points\n",
    "\n",
    "def interpolate(x):\n",
    "    for i in range(len(points)-1):\n",
    "        if(x<=X[i+1] and x>=X[i]):\n",
    "            z=slope(X[i],X[i+1],Y[i],Y[i+1])\n",
    "            y=result(x-X[i],Y[i],z)\n",
    "    return y\n",
    "\n",
    "    \n"
   ]
  },
  {
   "cell_type": "code",
   "execution_count": 10,
   "id": "2ba1750d",
   "metadata": {},
   "outputs": [
    {
     "data": {
      "text/plain": [
       "19.454545454545453"
      ]
     },
     "execution_count": 10,
     "metadata": {},
     "output_type": "execute_result"
    }
   ],
   "source": [
    "lin2(2)\n"
   ]
  },
  {
   "cell_type": "code",
   "execution_count": 11,
   "id": "5f78d470",
   "metadata": {},
   "outputs": [
    {
     "data": {
      "text/plain": [
       "1.495"
      ]
     },
     "execution_count": 11,
     "metadata": {},
     "output_type": "execute_result"
    }
   ],
   "source": [
    "interpolate(1.09)"
   ]
  },
  {
   "cell_type": "code",
   "execution_count": null,
   "id": "0dad18df",
   "metadata": {},
   "outputs": [],
   "source": []
  },
  {
   "cell_type": "code",
   "execution_count": null,
   "id": "4e740cae",
   "metadata": {},
   "outputs": [],
   "source": []
  }
 ],
 "metadata": {
  "kernelspec": {
   "display_name": "Python 3 (ipykernel)",
   "language": "python",
   "name": "python3"
  },
  "language_info": {
   "codemirror_mode": {
    "name": "ipython",
    "version": 3
   },
   "file_extension": ".py",
   "mimetype": "text/x-python",
   "name": "python",
   "nbconvert_exporter": "python",
   "pygments_lexer": "ipython3",
   "version": "3.9.12"
  }
 },
 "nbformat": 4,
 "nbformat_minor": 5
}
